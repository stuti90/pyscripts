{
 "cells": [
  {
   "cell_type": "code",
   "execution_count": null,
   "metadata": {
    "collapsed": true
   },
   "outputs": [],
   "source": [
    "%matplotlib inline\n",
    "import pandas as pd\n",
    "import numpy as np\n",
    "import matplotlib.pyplot as plt"
   ]
  },
  {
   "cell_type": "code",
   "execution_count": null,
   "metadata": {
    "collapsed": false
   },
   "outputs": [],
   "source": [
    "# Read dataset Data format:\n",
    "# date, variation, session id, total minutes watched\n",
    "dt = pd.read_csv('experiment_granular.csv',sep=',',header=0)\n",
    "dt.head()"
   ]
  },
  {
   "cell_type": "code",
   "execution_count": null,
   "metadata": {
    "collapsed": false
   },
   "outputs": [],
   "source": [
    "# mean, SD, N per variation\n",
    "dt_all = dt.groupby('v.variation')\n",
    "dt_all.describe()"
   ]
  },
  {
   "cell_type": "code",
   "execution_count": null,
   "metadata": {
    "collapsed": false
   },
   "outputs": [],
   "source": [
    "# mean, SD, N per variation after filtering out outliers\n",
    "no_outl = dt[dt.minute_view_cnt <= 720]\n",
    "no_outl_var = no_outl.groupby('v.variation')\n",
    "no_outl_var.describe()"
   ]
  },
  {
   "cell_type": "code",
   "execution_count": null,
   "metadata": {
    "collapsed": false
   },
   "outputs": [],
   "source": [
    "# plotting entire distrubution of min views \n",
    "no_outl.minute_view_cnt.hist(bins=30)"
   ]
  },
  {
   "cell_type": "code",
   "execution_count": null,
   "metadata": {
    "collapsed": false
   },
   "outputs": [],
   "source": [
    "# Examining distribution in sessions with less than 100 minutes watched\n",
    "no_outl[(no_outl.minute_view_cnt <= 100)].minute_view_cnt.hist(bins=30)\n"
   ]
  },
  {
   "cell_type": "code",
   "execution_count": null,
   "metadata": {
    "collapsed": false,
    "scrolled": true
   },
   "outputs": [],
   "source": [
    "# Examining sessions with less than 100 minutes watched \n",
    "# but without the skew due to the ones who didn't watch anything at all\n",
    "no_outl[(no_outl.minute_view_cnt <= 100) & (no_outl.minute_view_cnt >0)].minute_view_cnt.hist(bins=30)"
   ]
  }
 ],
 "metadata": {
  "kernelspec": {
   "display_name": "Python 2",
   "language": "python",
   "name": "python2"
  },
  "language_info": {
   "codemirror_mode": {
    "name": "ipython",
    "version": 2
   },
   "file_extension": ".py",
   "mimetype": "text/x-python",
   "name": "python",
   "nbconvert_exporter": "python",
   "pygments_lexer": "ipython2",
   "version": "2.7.9"
  }
 },
 "nbformat": 4,
 "nbformat_minor": 0
}
